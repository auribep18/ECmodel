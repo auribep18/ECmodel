{
 "cells": [
  {
   "attachments": {},
   "cell_type": "markdown",
   "id": "40717124-effe-4ee2-9cbf-40920cfeeb02",
   "metadata": {},
   "source": [
    "## Analyis of EMEP Source-receptor tables v. 23.08.2024\n",
    "\n",
    "## Introduction: \n",
    "The EMEP program is a scientifically based and policy-driven initiative under the Convention on Long-range Transboundary Air Pollution (CLRTAP) for international cooperation in solving transboundary air pollution problems. This program shares with the scientific community Source-Receptor (SR) tables, which are calculated using the EMEP MSC-W model. The model is based on meteorological data from ECMWF-IFS and covers the EMEP domain (30°N–82°N latitude, 30°W–90°E longitude) with a 0.3°×0.2° longitude-latitude resolution. These tables illustrate the changes in air concentrations or depositions due to variations in emissions from each country, calculated using the 15% perturbation method. They address two fundamental questions about transboundary air pollution: Where do the pollutants emitted by a country or region end up? Where do the pollutants in a given country or region come from?.  The changes in PM2.5 concentrations are computed on a perturbation of 15% of emission reductions, for pollutants such as SOx, NOx, NH3, NMVOC, and PPM that are primary source of PM2.5.\n",
    "Source: Elaborated on https://www.emep.int/\n",
    "\n",
    "This notebook reads the data presented in the SR Tables for PM2.5 from the years 2012 to 2021. The data has been previously processed in an Excel file called \"PanelSR.xlsx\"."
   ]
  },
  {
   "cell_type": "code",
   "execution_count": null,
   "id": "8f9af631-d5de-4b41-ba4e-0ff2bfc8135e",
   "metadata": {},
   "outputs": [],
   "source": [
    "# Import libraries\n",
    "import pandas as pd  # For data manipulation and analysis\n",
    "import matplotlib.pyplot as plt  # For data visualization and plotting\n",
    "import seaborn as sns  # For enhanced data visualization (based on matplotlib)\n",
    "import numpy as np  # For numerical operations, especially working with arrays and mathematical functions like log\n",
    "import statsmodels.api as sm\n",
    "from linearmodels.panel import PanelOLS\n",
    "\n",
    "# Load the dataset\n",
    "file_path = 'C:/Users/uribep_a/model/EMEPmodel/PanelSR.xlsx'\n",
    "df_raw = pd.read_excel(file_path)\n",
    "# Selection of specific dataset by filtering\n",
    "#df = df_raw[(df_raw['include'] == 1) & (df_raw['transboundary'] == 0)]\n",
    "df = df_raw[(df_raw['include'] == 1) ]\n",
    "# Prepare the data\n",
    "important_columns = [\n",
    "    'Name_Emitters',\n",
    "    'ID_Emitters',\n",
    "    'Code_Emitters',\n",
    "    'DeltaPM25_ngperm3',\n",
    "    'Year',\n",
    "    'PrimaryPollutant',\n",
    "    'Emission_Gg',\n",
    "    'DeltaEmission_Gg',\n",
    "    'DeltaPM25_ngperm3_per1Gg',\n",
    "    'HaversineDistance'\n",
    "]\n"
   ]
  },
  {
   "cell_type": "markdown",
   "id": "41a418be-9202-465e-b643-5314f5605efb",
   "metadata": {},
   "source": [
    "## 1. Emissions: \n",
    "The variable Emission_Gg contains the emissions of each pollutant contributing to PM2.5 released in each country per year. These values are used to compute the perturbation on PM2.5 concentrations using 15% of these values, according to EMEP."
   ]
  },
  {
   "cell_type": "code",
   "execution_count": null,
   "id": "88794ce2-7bd9-4913-926e-1547bddc2fa1",
   "metadata": {},
   "outputs": [],
   "source": [
    "filtered_df_1 = df[important_columns]\n",
    "# Create subplots\n",
    "fig, axes = plt.subplots(1, 2, figsize=(15, 6))\n",
    "\n",
    "# First boxplot for Value_ngperm3 faceted by Year\n",
    "sns.boxplot(x='PrimaryPollutant', y='Emission_Gg', hue='Year',data=filtered_df_1, showfliers=False, ax=axes[0], palette=\"Blues\")\n",
    "axes[0].set_title('Emissions (Gg/year) by Pollutant and Year reported on EMEP')\n",
    "axes[0].set_xlabel('Primary Pollutant')\n",
    "axes[0].set_ylabel('Emission (Gg/year)')\n",
    "axes[0].tick_params(axis='x', rotation=45)\n",
    "\n",
    "# Second boxplot for Value_ngperm3_per1Gg faceted by Year\n",
    "sns.boxplot(x='PrimaryPollutant', y='DeltaEmission_Gg', hue='Year', data=filtered_df_1, showfliers=False, ax=axes[1], palette=\"Blues\")\n",
    "axes[1].set_title('15% perturbation on Emissions (Gg/year) by Primary Pollutant and Year')\n",
    "axes[1].set_xlabel('Primary Pollutant')\n",
    "axes[1].set_ylabel('Delta Emission (Gg/year)')\n",
    "axes[1].tick_params(axis='x', rotation=45)\n",
    "\n",
    "# Set the same y-axis limits for both plots\n",
    "y_max = max(axes[0].get_ylim()[1], axes[1].get_ylim()[1])\n",
    "y_min = min(axes[0].get_ylim()[0], axes[1].get_ylim()[0])\n",
    "axes[0].set_ylim(y_min, y_max)\n",
    "axes[1].set_ylim(y_min, y_max)\n",
    "\n",
    "# Adjust layout to prevent overlap\n",
    "plt.tight_layout()\n",
    "plt.show()"
   ]
  },
  {
   "cell_type": "markdown",
   "id": "d4543241-6c13-4ed1-9a97-4bb2b6db69be",
   "metadata": {},
   "source": [
    "##### Time trends. Is there a time trend? \n",
    "##### Model 1: \n",
    "To assess the presence of a time trend in emissions, we start by running a simple Ordinary Least Squares (OLS) regression model where the dependent variable is emissions (Emission_Gg), and the independent variable is time (Year). This basic model helps us understand if there is a general trend over time across all countries."
   ]
  },
  {
   "cell_type": "code",
   "execution_count": null,
   "id": "e04ce778-935f-4f8d-bf93-a7e94d346ce1",
   "metadata": {},
   "outputs": [],
   "source": [
    "# Define the dependent variable (Emissions) and independent variable (Year)\n",
    "y = filtered_df_1['Emission_Gg']\n",
    "X = filtered_df_1['Year']\n",
    "# Add a constant to the independent variable matrix (for the intercept)\n",
    "X = sm.add_constant(X)\n",
    "# Fit the OLS model\n",
    "model = sm.OLS(y, X)\n",
    "results = model.fit()\n",
    "# Print the summary of the model\n",
    "print(results.summary())"
   ]
  },
  {
   "cell_type": "markdown",
   "id": "764c66d5-0f8e-4464-89d7-263c6e9592fb",
   "metadata": {},
   "source": [
    "Is there a time trend?  Yes, but it’s weak (with model 1). \n",
    "The regression results from model 1 suggest that there is a statistically significant time trend in emissions over the years, with emissions decreasing slightly over time. However, the trend is weak, as indicated by the very low R-squared value. What Next?"
   ]
  },
  {
   "cell_type": "markdown",
   "id": "bdf9a748-01e4-481c-94b4-1f2b33814b1b",
   "metadata": {},
   "source": [
    "##### Model 2:  \n",
    "We improve model 1 by adding country-specific fixed effects. This involves including dummy variables for each country in the dataset. These dummies capture the unique characteristics of each country that could influence emissions but are not directly observed in the data (such as policies, economic conditions, industrial practices, etc.). These are controlling for unobserved heterogeneity. Model 2 now focuses on within-country variations over time, rather than between-country differences. Model 2 now accounts for more of the variance in emissions that can be attributed to differences between countries."
   ]
  },
  {
   "cell_type": "code",
   "execution_count": null,
   "id": "e568e224-4db0-4dcc-a279-ca07e4f9eb87",
   "metadata": {},
   "outputs": [],
   "source": [
    "# Recreate dummy variables\n",
    "X = pd.concat([\n",
    "    filtered_df_1[['Year']],\n",
    "    pd.get_dummies(filtered_df_1['ID_Emitters'], drop_first=True)\n",
    "], axis=1)\n",
    "# Ensure that all boolean columns are explicitly converted to integers\n",
    "for col in X.columns[1:]:  # Skip the first column 'Year' assuming it's numeric\n",
    "    X[col] = X[col].astype(int)\n",
    "\n",
    "# Add a constant to the independent variable matrix (for the intercept)\n",
    "X = sm.add_constant(X)\n",
    "# Fit the OLS model\n",
    "model = sm.OLS(y, X)\n",
    "results = model.fit()\n",
    "# Print the summary of the model\n",
    "print(results.summary())"
   ]
  },
  {
   "cell_type": "markdown",
   "id": "d1023bb4-7946-425f-95e0-d06246b90389",
   "metadata": {},
   "source": [
    "##### Interpretation of Time Trend of Emissions: \n",
    "The coefficient for Year is -3.5561, which is slightly more negative than in the simple OLS model without fixed effects. This indicates that, after controlling for country-specific factors, emissions are still decreasing over time, but the trend is more pronounced. Adding country-specific fixed effects accounts for unobserved heterogeneity between countries, improving the model’s explanatory power. There is an average decrease in emissions of approximately 3.6 gigagrams (Gg) per year. Model 2 now explains about 63.7% of the variance in emissions (R-squared), which is a substantial improvement over the simple OLS model that only included Year. With fixed effects included, the time trend (Year coefficient) reflects within-country changes in emissions over time, independent of the country-specific baseline differences. This makes the time trend more accurate and meaningful."
   ]
  },
  {
   "cell_type": "markdown",
   "id": "9624ba4f-3188-4bba-b5b3-abae0d368165",
   "metadata": {},
   "source": [
    "##### Analyis by Polluntat:\n",
    "We now replicate this analysis for each pollutant separately, including fixed effects by country."
   ]
  },
  {
   "cell_type": "code",
   "execution_count": null,
   "id": "ad9bc607-fcdb-4ea0-b88e-d5de81df6d08",
   "metadata": {},
   "outputs": [],
   "source": [
    "# Get the unique pollutants in the dataset\n",
    "unique_pollutants = filtered_df_1['PrimaryPollutant'].unique()\n",
    "# Initialize a list to store the results\n",
    "results_summary = []\n",
    "# Loop through each pollutant and perform OLS regression\n",
    "for pollutant in unique_pollutants:\n",
    "    #print(f\"\\nRunning OLS for pollutant: {pollutant}\")\n",
    "    # Filter the DataFrame for the current pollutant\n",
    "    filtered_df_pollutant = filtered_df_1[filtered_df_1['PrimaryPollutant'] == pollutant]\n",
    "    # Define the dependent variable (Emissions) and independent variable (Year)\n",
    "    y = filtered_df_pollutant['Emission_Gg']\n",
    "     # Recreate dummy variables\n",
    "    X = pd.concat([\n",
    "        filtered_df_pollutant[['Year']],\n",
    "        pd.get_dummies(filtered_df_pollutant['ID_Emitters'], drop_first=True)\n",
    "    ], axis=1)\n",
    "    # Ensure that all boolean columns are explicitly converted to integers\n",
    "    for col in X.columns[1:]:  # Skip the first column 'Year' assuming it's numeric\n",
    "        X[col] = X[col].astype(int)\n",
    "    # Add a constant to the independent variable matrix (for the intercept)\n",
    "    X = sm.add_constant(X)\n",
    "    # Fit the OLS model\n",
    "    model = sm.OLS(y, X)\n",
    "    results = model.fit()\n",
    "    # Extract the coefficient, p-value, and confidence interval for 'Year'\n",
    "    year_coef = results.params['Year']\n",
    "    p_value = results.pvalues['Year']\n",
    "    conf_int = results.conf_int().loc['Year']\n",
    "    # Append the results to the summary list\n",
    "    results_summary.append({\n",
    "        'Pollutant': pollutant,\n",
    "        'Year Coefficient': year_coef,\n",
    "        'P-value': p_value,\n",
    "        '95% CI Lower': conf_int[0],\n",
    "        '95% CI Upper': conf_int[1]\n",
    "    })\n",
    "# Convert the summary list into a DataFrame for easy viewing\n",
    "results_df = pd.DataFrame(results_summary)\n",
    "# Display the summary table\n",
    "print(results_df)"
   ]
  },
  {
   "cell_type": "markdown",
   "id": "324a1841-110a-43fa-bbb5-432400a85a1a",
   "metadata": {},
   "source": [
    "##### Interpretation: \n",
    "Downward Trends: For pollutants like NMVOC, NOx, SOx, and PM2.5, the negative year coefficients indicate significant reductions in emissions over time. These reductions could be due to improvements in technology, regulatory measures, or other environmental policies aimed at reducing emissions.\n",
    "Upward Trend: NH3 is the exception, showing an increase in emissions over time. This could point to rising use of ammonia in agriculture (e.g., as fertilizer) or other industrial processes that have not been as strictly regulated or mitigated as the other pollutants.\n",
    "Statistical Significance: The extremely low p-values across all pollutants suggest that these trends are highly statistically significant and not due to random variation."
   ]
  },
  {
   "cell_type": "markdown",
   "id": "cec67759-0830-49f5-8fc7-7a5e5a510b6e",
   "metadata": {},
   "source": [
    "## 2. Changes in PM2.5 concentrations \n",
    "Changes in PM2.5 concentrations are computed based on a 15% reduction in emissions for pollutants such as SOx, NOx, NH3, NMVOC, and PPM, which are primary sources of PM2.5. The goal is to understand both the magnitude and the nature of the impact that emission reductions have on air quality, as measured by changes in PM2.5 concentrations."
   ]
  },
  {
   "cell_type": "code",
   "execution_count": null,
   "id": "7275275d-a5b9-482c-96e4-9b8fb1f45218",
   "metadata": {},
   "outputs": [],
   "source": [
    "# Import libraries\n",
    "import pandas as pd  # For data manipulation and analysis\n",
    "import matplotlib.pyplot as plt  # For data visualization and plotting\n",
    "import seaborn as sns  # For enhanced data visualization (based on matplotlib)\n",
    "import numpy as np  # For numerical operations, especially working with arrays and mathematical functions like log\n",
    "import statsmodels.api as sm\n",
    "from linearmodels.panel import PanelOLS\n",
    "\n",
    "# Load the dataset\n",
    "file_path = 'C:/Users/uribep_a/model/EMEPmodel/PanelSR.xlsx'\n",
    "df_raw = pd.read_excel(file_path)\n",
    "\n",
    "df = df_raw[(df_raw['include'] == 1) & (df_raw['transboundary'] == 0)]\n",
    "# Prepare the data\n",
    "important_columns = [\n",
    "    'Name_Emitters',\n",
    "    'ID_Emitters',\n",
    "    'Code_Emitters',\n",
    "    'DeltaPM25_ngperm3',\n",
    "    'Year',\n",
    "    'PrimaryPollutant',\n",
    "    'Emission_Gg',\n",
    "    'DeltaEmission_Gg',\n",
    "    'DeltaPM25_ngperm3_per1Gg',\n",
    "    'HaversineDistance'\n",
    "]\n",
    "filtered_df_1 = df[important_columns]"
   ]
  },
  {
   "cell_type": "markdown",
   "id": "bd20c435-95ef-4db0-b441-bc846ba04d0f",
   "metadata": {},
   "source": [
    "We plot at the left side the change 15% reduction in emissions, and at the rigth side the changes on changes in PM2.5 concentrations according data from EMEP Source-receptor tables for PM2.5"
   ]
  },
  {
   "cell_type": "code",
   "execution_count": null,
   "id": "2b277bea-dd9e-48d2-8e0b-cf5df1b19c0f",
   "metadata": {},
   "outputs": [],
   "source": [
    "# Create subplots\n",
    "fig, axes = plt.subplots(1, 2, figsize=(15, 6))\n",
    "\n",
    "# First boxplot for Value_ngperm3 faceted by Year\n",
    "sns.boxplot(x='PrimaryPollutant', y='DeltaEmission_Gg', hue='Year', data=filtered_df_1, showfliers=False, ax=axes[0], palette=\"Blues\")\n",
    "axes[0].set_title('15% perturbation on Emissions (Gg/year) by Primary Pollutant and Year')\n",
    "axes[0].set_xlabel('Primary Pollutant')\n",
    "axes[0].set_ylabel('Emission (Gg/year)')\n",
    "axes[0].tick_params(axis='x', rotation=45)\n",
    "\n",
    "# Second boxplot for Value_ngperm3_per1Gg faceted by Year\n",
    "sns.boxplot(x='PrimaryPollutant', y='DeltaPM25_ngperm3', hue='Year', data=filtered_df_1, showfliers=False, ax=axes[1], palette=\"Reds\")\n",
    "axes[1].set_title('Delta PM25 Concentration (ng/m3) by Primary Pollutant and Year')\n",
    "axes[1].set_xlabel('Primary Pollutant')\n",
    "axes[1].set_ylabel('Delta PM25 Concentration (ng/m3)')\n",
    "axes[1].tick_params(axis='x', rotation=45)\n",
    "\n",
    "# Adjust layout to prevent overlap\n",
    "plt.tight_layout()\n",
    "plt.show()"
   ]
  },
  {
   "cell_type": "markdown",
   "id": "ce1c21cd-3078-4afd-9247-eef6561d5d09",
   "metadata": {},
   "source": [
    "We connect both variables and try to understand the relationship between them."
   ]
  },
  {
   "cell_type": "code",
   "execution_count": null,
   "id": "15d0783a-6a05-4dd9-ad5f-65b342d34a41",
   "metadata": {},
   "outputs": [],
   "source": [
    "# Set up the Seaborn theme for aesthetics\n",
    "sns.set_theme(style=\"whitegrid\")\n",
    "# Create a scatter plot for each pollutant\n",
    "g = sns.FacetGrid(filtered_df_1, col=\"PrimaryPollutant\", hue=\"Year\", palette=\"viridis\", height=5, aspect=1)\n",
    "g.map(sns.scatterplot, \"DeltaEmission_Gg\", \"DeltaPM25_ngperm3\", alpha=0.7)\n",
    "# Add a legend and adjust the layout\n",
    "g.add_legend()\n",
    "g.set_axis_labels(\"Delta Emission (Gg/year)\", \"Delta PM2.5 Concentration (ng/m3)\")\n",
    "g.fig.subplots_adjust(top=0.9)\n",
    "g.fig.suptitle(\"Scatter Plot of DeltaEmission vs DeltaPM25 by Pollutant\")\n",
    "plt.show()"
   ]
  },
  {
   "cell_type": "markdown",
   "id": "410dd431-a3a6-4b96-a50d-8e3e53dba2ee",
   "metadata": {},
   "source": [
    "We include in our analysis the depictions by country for each year."
   ]
  },
  {
   "cell_type": "code",
   "execution_count": null,
   "id": "6276fe25-0f97-4649-85ce-3a93d59b76da",
   "metadata": {},
   "outputs": [],
   "source": [
    "import seaborn as sns\n",
    "import matplotlib.pyplot as plt\n",
    "# Filter the dataset for Year = 2021 and PrimaryPollutant = 'PM2.5'\n",
    "filtered_df_2021_PM25 = filtered_df_1[(filtered_df_1['Year'] == 2021) & (filtered_df_1['PrimaryPollutant'] == 'PM25')]\n",
    "# Create the scatter plot without showing the legend\n",
    "plt.figure(figsize=(10, 6))\n",
    "sns.scatterplot(x='DeltaEmission_Gg', y='DeltaPM25_ngperm3', data=filtered_df_2021_PM25, hue='Name_Emitters', palette='tab10', s=100, alpha=0.7, legend=False)\n",
    "# Add country names to each point\n",
    "for i in range(filtered_df_2021_PM25.shape[0]):\n",
    "    plt.text(x=filtered_df_2021_PM25['DeltaEmission_Gg'].iloc[i],\n",
    "             y=filtered_df_2021_PM25['DeltaPM25_ngperm3'].iloc[i],\n",
    "             s=filtered_df_2021_PM25['Name_Emitters'].iloc[i],\n",
    "             fontdict=dict(color='black', size=10),\n",
    "             ha='right', va='bottom')\n",
    "# Add titles and labels\n",
    "plt.title('Scatter Plot of DeltaEmission vs DeltaPM25 for PM2.5 in 2021', fontsize=16)\n",
    "plt.xlabel('Delta Emission (Gg/year)', fontsize=14)\n",
    "plt.ylabel('Delta PM2.5 Concentration (ng/m3)', fontsize=14)\n",
    "# Display grid and adjust layout\n",
    "plt.grid(True)\n",
    "plt.tight_layout()\n",
    "plt.show()"
   ]
  }
 ],
 "metadata": {
  "kernelspec": {
   "display_name": "Python 3 (ipykernel)",
   "language": "python",
   "name": "python3"
  },
  "language_info": {
   "codemirror_mode": {
    "name": "ipython",
    "version": 3
   },
   "file_extension": ".py",
   "mimetype": "text/x-python",
   "name": "python",
   "nbconvert_exporter": "python",
   "pygments_lexer": "ipython3",
   "version": "3.11.9"
  }
 },
 "nbformat": 4,
 "nbformat_minor": 5
}
